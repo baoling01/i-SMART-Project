{
 "cells": [
  {
   "cell_type": "code",
   "execution_count": 4,
   "id": "4866307d",
   "metadata": {},
   "outputs": [],
   "source": [
    "import pandas as pd \n",
    "\n",
    "df = pd.read_csv(\"train.csv\")\n",
    "df['Summary'] = df.apply(lambda row: \n",
    "    f\"The student took {row['Pre_Uni_Program']} before entering their university. \"\n",
    "    f\"{row['Pre_Uni_Results']}. Therefore, the student took {row['Uni_Program']} during their university journey.\",\n",
    "    axis=1\n",
    ")\n",
    "df.to_csv(\"train_with_summary.csv\", index=False)"
   ]
  }
 ],
 "metadata": {
  "kernelspec": {
   "display_name": "baoling",
   "language": "python",
   "name": "python3"
  },
  "language_info": {
   "codemirror_mode": {
    "name": "ipython",
    "version": 3
   },
   "file_extension": ".py",
   "mimetype": "text/x-python",
   "name": "python",
   "nbconvert_exporter": "python",
   "pygments_lexer": "ipython3",
   "version": "3.12.3"
  }
 },
 "nbformat": 4,
 "nbformat_minor": 5
}
